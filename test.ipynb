{
 "cells": [],
 "metadata": {
  "kernelspec": {
   "display_name": ".venv",
   "language": "python",
   "name": "python3"
  },
  "language_info": {
   "codemirror_mode": {
    "name": "ipython",
    "version": 3
   },
   "file_extension": ".py",
   "mimetype": "text/x-python",
   "name": "python",
   "nbconvert_exporter": "python",
   "pygments_lexer": "ipython3",
   "version": "3.9.2"
  },
  "orig_nbformat": 4,
  "vscode": {
   "interpreter": {
    "hash": "c2dfe9b7c1976225a80f652a238d92ca8d58ae6056794c0c2011ad2ef6627894"
   }
  }
 },
 "nbformat": 4,
 "nbformat_minor": 2
}
